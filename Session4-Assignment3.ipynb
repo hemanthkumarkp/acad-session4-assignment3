{
 "cells": [
  {
   "cell_type": "markdown",
   "metadata": {},
   "source": [
    "1) Write a Python program which accepts a list named : randomList = ['a', 0,2].\n",
    "\n",
    "Use exception handling using try-catch which gives the output as:\n",
    "Output\n",
    "1) If the List element is a alphabet or string, the output will be\n",
    "The entry is a\n",
    "Oops! <class 'ValueError'> occured.\n",
    "Next entry.\n",
    "2) If the List element is “0”,the output will be\n",
    "The entry is 0\n",
    "Oops! <class 'ZeroDivisionError'> occured.\n",
    "Next entry.\n",
    "3) If the List element is and integer except 0,then output will be\n",
    "The entry is 2\n",
    "The reciprocal of 2 is 0.5 // reciprocal of an integer"
   ]
  },
  {
   "cell_type": "code",
   "execution_count": 49,
   "metadata": {},
   "outputs": [
    {
     "name": "stdout",
     "output_type": "stream",
     "text": [
      "Oops! <class 'ValueError'> occured.\n",
      "Next Entry.\n",
      "Oops! <class 'ZeroDivisionError'> occured.\n",
      "Next Entry.\n",
      "The entry is 2\n",
      "The reciprocal of 2 is 0.5\n"
     ]
    }
   ],
   "source": [
    "import unicodedata\n",
    "import codecs\n",
    "import sys\n",
    "\n",
    "def checkItems(randomList):\n",
    "    for listItem in randomList:\n",
    "        try:\n",
    "            if isinstance(listItem, str):\n",
    "                item = listItem\n",
    "                raise ValueError\n",
    "            else:\n",
    "                if listItem==0:\n",
    "                    raise ZeroDivisionError\n",
    "                else:\n",
    "                    print(\"The entry is {0}\".format(listItem))\n",
    "                    print(\"The reciprocal of {0} is {1}\".format(listItem,1/listItem))\n",
    "        except ValueError:\n",
    "            print(\"Oops! <class 'ValueError'> occured.\")\n",
    "            print(\"Next Entry.\")\n",
    "            continue\n",
    "        except ZeroDivisionError:\n",
    "            print(\"Oops! <class 'ZeroDivisionError'> occured.\")\n",
    "            print(\"Next Entry.\")\n",
    "            continue\n",
    "\n",
    "randomList = ['a', 0,2]\n",
    "reciprocalValues = checkItems(randomList)\n",
    "            "
   ]
  },
  {
   "cell_type": "markdown",
   "metadata": {},
   "source": [
    "2) Array out of Bound Exception\n",
    "Write a Python program to give exception “Array Out of Bound” if the\n",
    "user wants to access the elements beyond the list size (use try and exce\n",
    "pt)"
   ]
  },
  {
   "cell_type": "code",
   "execution_count": 54,
   "metadata": {},
   "outputs": [
    {
     "name": "stdout",
     "output_type": "stream",
     "text": [
      "array item: 1\n",
      "array item: 2\n",
      "array item: a\n",
      "array item: b\n",
      "array item: lastItem\n",
      "Array Out of Bound\n"
     ]
    }
   ],
   "source": [
    "def arrayIteration(arrayItems):\n",
    "    for i in range (0,len(arrayItems)+1):\n",
    "        try:\n",
    "            print(\"array item:\",arrayItems[i])\n",
    "        except IndexError:\n",
    "            print(\"Array Out of Bound\")\n",
    "\n",
    "arrayItems = [1,2,\"a\",\"b\",\"lastItem\"]\n",
    "arrayIteration(arrayItems)\n",
    "        "
   ]
  },
  {
   "cell_type": "markdown",
   "metadata": {},
   "source": [
    "3) Write a python module script that contains fib2() method to calculate the\n",
    "fibonacci series till 1000 and save it as fibo.py.\n",
    "Note : The module created as fibo.py has to be placed in lib\n",
    "folder\n",
    "For linux/ubuntu path = /home/anaconda/lib/python3\n",
    "For Windows path = C:\\Users\\Ajit\\Anaconda3\\Lib"
   ]
  },
  {
   "cell_type": "markdown",
   "metadata": {},
   "source": [
    "#fib2.py file content stored in C:\\Users\\khema\\Anaconda3\\Lib\n",
    "def fib2():\n",
    "    n1 = 0\n",
    "    n2 = 1\n",
    "    nth = 1\n",
    "    print(\"Fibonacci sequence upto\",1000,\":\")\n",
    "    while n1 < 1000:\n",
    "        nth = n1 + n2\n",
    "        # update values\n",
    "        print(n1,end=' , ')\n",
    "        n1 = n2\n",
    "        n2 = nth\n",
    "        \n",
    "        \n",
    "\n",
    "fib2()"
   ]
  },
  {
   "cell_type": "code",
   "execution_count": 94,
   "metadata": {},
   "outputs": [
    {
     "name": "stdout",
     "output_type": "stream",
     "text": [
      "Fibonacci sequence upto 1000 :\n",
      "0 , 1 , 1 , 2 , 3 , 5 , 8 , 13 , 21 , 34 , 55 , 89 , 144 , 233 , 377 , 610 , 987 , "
     ]
    }
   ],
   "source": [
    "import fib2 as fib\n",
    "\n",
    "fib.fib2()\n"
   ]
  },
  {
   "cell_type": "markdown",
   "metadata": {},
   "source": [
    "4) Write a python module script that contains ispalindrome() method to\n",
    "calculate the input string as palindrome string or not and save it as\n",
    "palindrome.py"
   ]
  },
  {
   "cell_type": "markdown",
   "metadata": {},
   "source": [
    "#palindrome.py file content stored in  C:\\Users\\khema\\Anaconda3\\Lib\n",
    "def ispalindrome(myStr):\n",
    "    if(myStr == myStr[::-1]):\n",
    "        print(\"palindrome\")\n",
    "    else:\n",
    "        print(\"not a palindrome\")\n"
   ]
  },
  {
   "cell_type": "code",
   "execution_count": 65,
   "metadata": {},
   "outputs": [
    {
     "name": "stdout",
     "output_type": "stream",
     "text": [
      "palindrome\n",
      "not a palindrome\n"
     ]
    }
   ],
   "source": [
    "import palindrome\n",
    "\n",
    "palindrome.ispalindrome(\"abccba\")\n",
    "palindrome.ispalindrome(\"abc\")\n"
   ]
  }
 ],
 "metadata": {
  "kernelspec": {
   "display_name": "Python 3",
   "language": "python",
   "name": "python3"
  },
  "language_info": {
   "codemirror_mode": {
    "name": "ipython",
    "version": 3
   },
   "file_extension": ".py",
   "mimetype": "text/x-python",
   "name": "python",
   "nbconvert_exporter": "python",
   "pygments_lexer": "ipython3",
   "version": "3.6.5"
  }
 },
 "nbformat": 4,
 "nbformat_minor": 2
}
